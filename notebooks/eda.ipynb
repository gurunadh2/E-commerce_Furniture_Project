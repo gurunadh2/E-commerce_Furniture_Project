{
 "cells": [
  {
   "cell_type": "code",
   "execution_count": null,
   "id": "cf7f5822",
   "metadata": {
    "vscode": {
     "languageId": "plaintext"
    }
   },
   "outputs": [],
   "source": [
    "import pandas as pd\n",
    "import seaborn as sns\n",
    "import matplotlib.pyplot as plt\n",
    "\n",
    "  # Load cleaned data\n",
    "df = pd.read_csv('../data/cleaned_data.csv')\n",
    "  "
   ]
  },
  {
   "cell_type": "code",
   "execution_count": null,
   "id": "1bc2a174",
   "metadata": {
    "vscode": {
     "languageId": "plaintext"
    }
   },
   "outputs": [],
   "source": [
    "sns.pairplot(df, vars=['originalPrice', 'price', 'sold'], kind='scatter')\n",
    "plt.title('Relationship Between Price, Original Price, and Items Sold')\n",
    "plt.show()\n"
   ]
  },
  {
   "cell_type": "code",
   "execution_count": null,
   "id": "39911621",
   "metadata": {
    "vscode": {
     "languageId": "plaintext"
    }
   },
   "outputs": [],
   "source": [
    "sns.histplot(df['sold'], kde=True)\n",
    "plt.title('Distribution of Furniture Items Sold')\n",
    "plt.show()\n",
    "  "
   ]
  }
 ],
 "metadata": {
  "language_info": {
   "name": "python"
  }
 },
 "nbformat": 4,
 "nbformat_minor": 5
}
